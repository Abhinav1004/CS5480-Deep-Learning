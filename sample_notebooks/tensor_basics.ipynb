{
  "nbformat": 4,
  "nbformat_minor": 0,
  "metadata": {
    "colab": {
      "provenance": []
    },
    "kernelspec": {
      "name": "python3",
      "display_name": "Python 3"
    },
    "language_info": {
      "name": "python"
    },
    "accelerator": "GPU"
  },
  "cells": [
    {
      "cell_type": "code",
      "metadata": {
        "id": "57pDEzRgaBKE"
      },
      "source": [
        "import torch\n",
        "# imports pytorch"
      ],
      "execution_count": null,
      "outputs": []
    },
    {
      "cell_type": "code",
      "metadata": {
        "id": "FUtG608-FDZv"
      },
      "source": [
        "import numpy as np\n",
        "# imports numpy"
      ],
      "execution_count": null,
      "outputs": []
    },
    {
      "cell_type": "markdown",
      "metadata": {
        "id": "XIb5cEoK-RNr"
      },
      "source": [
        "**Simple Tensor Operations**"
      ]
    },
    {
      "cell_type": "code",
      "metadata": {
        "colab": {
          "base_uri": "https://localhost:8080/"
        },
        "id": "mU3m_vCi19J-",
        "outputId": "89f2c493-6081-4e76-e891-cb8f59d3a560"
      },
      "source": [
        "a = torch.empty(3,4)\n",
        "a.size()\n",
        "# creates an empty tensor of shape (3,4)"
      ],
      "execution_count": null,
      "outputs": [
        {
          "output_type": "execute_result",
          "data": {
            "text/plain": [
              "torch.Size([3, 4])"
            ]
          },
          "metadata": {},
          "execution_count": 84
        }
      ]
    },
    {
      "cell_type": "code",
      "metadata": {
        "colab": {
          "base_uri": "https://localhost:8080/"
        },
        "id": "0NczjR7m2Pp7",
        "outputId": "9655bef8-ed69-424d-c425-e706bdb19153"
      },
      "source": [
        "a.fill_(3.14)\n",
        "# inplace operations are suffixed with an underscore\n",
        "# fills all the elements of tensor a with 3.14"
      ],
      "execution_count": null,
      "outputs": [
        {
          "output_type": "execute_result",
          "data": {
            "text/plain": [
              "tensor([[3.1400, 3.1400, 3.1400, 3.1400],\n",
              "        [3.1400, 3.1400, 3.1400, 3.1400],\n",
              "        [3.1400, 3.1400, 3.1400, 3.1400]])"
            ]
          },
          "metadata": {},
          "execution_count": 85
        }
      ]
    },
    {
      "cell_type": "code",
      "metadata": {
        "colab": {
          "base_uri": "https://localhost:8080/"
        },
        "id": "OdKhkh7Z2Tyw",
        "outputId": "e616622c-3a07-497a-898b-12161006be3f"
      },
      "source": [
        "a.mean()\n",
        "# computes the average of the tensor a\n",
        "# even a single element of a tensor is a tensor (0D)"
      ],
      "execution_count": null,
      "outputs": [
        {
          "output_type": "execute_result",
          "data": {
            "text/plain": [
              "tensor(3.1400)"
            ]
          },
          "metadata": {},
          "execution_count": 86
        }
      ]
    },
    {
      "cell_type": "code",
      "metadata": {
        "colab": {
          "base_uri": "https://localhost:8080/"
        },
        "id": "zLJhgJ3W9VFx",
        "outputId": "b28e028e-d664-48ca-b3ff-1e04cef0c8ee"
      },
      "source": [
        "a[1,2]\n",
        "# even a single element of a tensor is a tensor (0D)"
      ],
      "execution_count": null,
      "outputs": [
        {
          "output_type": "execute_result",
          "data": {
            "text/plain": [
              "tensor(3.1400)"
            ]
          },
          "metadata": {},
          "execution_count": 87
        }
      ]
    },
    {
      "cell_type": "code",
      "metadata": {
        "colab": {
          "base_uri": "https://localhost:8080/"
        },
        "id": "WGn5qlY12Wrj",
        "outputId": "cfc5b64e-01c8-471a-898b-8c302ce92273"
      },
      "source": [
        "a.std()\n",
        "# returns the standard deviation of elements in tensor a"
      ],
      "execution_count": null,
      "outputs": [
        {
          "output_type": "execute_result",
          "data": {
            "text/plain": [
              "tensor(4.9804e-07)"
            ]
          },
          "metadata": {},
          "execution_count": 88
        }
      ]
    },
    {
      "cell_type": "code",
      "metadata": {
        "colab": {
          "base_uri": "https://localhost:8080/"
        },
        "id": "djBLi1nf2Yj_",
        "outputId": "8405dd4c-0b89-4c34-becd-1d393a274d2f"
      },
      "source": [
        "a.sum()\n",
        "# returns the sum of elements in tensor a"
      ],
      "execution_count": null,
      "outputs": [
        {
          "output_type": "execute_result",
          "data": {
            "text/plain": [
              "tensor(37.6800)"
            ]
          },
          "metadata": {},
          "execution_count": 89
        }
      ]
    },
    {
      "cell_type": "code",
      "metadata": {
        "colab": {
          "base_uri": "https://localhost:8080/"
        },
        "id": "1qifyczQ2cis",
        "outputId": "8ba206e4-86ed-43ee-c92f-4445157c7c8e"
      },
      "source": [
        "a.sum().item()\n",
        "# to convert a 0D tensor into a Python scalar, item() is used"
      ],
      "execution_count": null,
      "outputs": [
        {
          "output_type": "execute_result",
          "data": {
            "text/plain": [
              "37.679996490478516"
            ]
          },
          "metadata": {},
          "execution_count": 90
        }
      ]
    },
    {
      "cell_type": "markdown",
      "metadata": {
        "id": "WqvHLXmW-a3k"
      },
      "source": [
        "**Vector/matrix Operations**"
      ]
    },
    {
      "cell_type": "code",
      "metadata": {
        "colab": {
          "base_uri": "https://localhost:8080/"
        },
        "id": "cO88Wy8B-en3",
        "outputId": "8a2b4661-bada-4374-cf76-0affa226c0c5"
      },
      "source": [
        "x = torch.tensor([1.0, 3.0, 5.0])\n",
        "y = torch.tensor([2.0, 4.0, 6.0])\n",
        "x+y"
      ],
      "execution_count": null,
      "outputs": [
        {
          "output_type": "execute_result",
          "data": {
            "text/plain": [
              "tensor([ 3.,  7., 11.])"
            ]
          },
          "metadata": {},
          "execution_count": 91
        }
      ]
    },
    {
      "cell_type": "code",
      "metadata": {
        "colab": {
          "base_uri": "https://localhost:8080/"
        },
        "id": "XM_7SIngPhLD",
        "outputId": "d8a3fc48-dc54-4b1e-d012-e039e569a153"
      },
      "source": [
        "x*y\n",
        "# hadamard product"
      ],
      "execution_count": null,
      "outputs": [
        {
          "output_type": "execute_result",
          "data": {
            "text/plain": [
              "tensor([ 2., 12., 30.])"
            ]
          },
          "metadata": {},
          "execution_count": 92
        }
      ]
    },
    {
      "cell_type": "code",
      "metadata": {
        "colab": {
          "base_uri": "https://localhost:8080/"
        },
        "id": "I_NHJq2HPinj",
        "outputId": "15361aa5-7bc0-4e99-b25f-226ac315938f"
      },
      "source": [
        "x**2\n",
        "# exponentiation"
      ],
      "execution_count": null,
      "outputs": [
        {
          "output_type": "execute_result",
          "data": {
            "text/plain": [
              "tensor([ 1.,  9., 25.])"
            ]
          },
          "metadata": {},
          "execution_count": 93
        }
      ]
    },
    {
      "cell_type": "code",
      "source": [
        "x**y\n",
        "# element-wise exponentiation"
      ],
      "metadata": {
        "colab": {
          "base_uri": "https://localhost:8080/"
        },
        "id": "Neyrr-le0B2f",
        "outputId": "4ccdf33b-66af-4163-a03c-7a2d9fee970c"
      },
      "execution_count": null,
      "outputs": [
        {
          "output_type": "execute_result",
          "data": {
            "text/plain": [
              "tensor([1.0000e+00, 8.1000e+01, 1.5625e+04])"
            ]
          },
          "metadata": {},
          "execution_count": 94
        }
      ]
    },
    {
      "cell_type": "code",
      "metadata": {
        "id": "qndQmKRXPua7"
      },
      "source": [
        "m=torch.tensor([[1.0, 0.0, 0.0],[0.0, 2.0, 0.0],[0.0, 0.0, 3.0]])\n",
        "# matrix (2D tensor) intialization"
      ],
      "execution_count": null,
      "outputs": []
    },
    {
      "cell_type": "code",
      "metadata": {
        "colab": {
          "base_uri": "https://localhost:8080/"
        },
        "id": "Vf9CeAfMP8ZI",
        "outputId": "d248cf85-91a1-4c26-cd38-6a5a3bfebdad"
      },
      "source": [
        "m.mv(x)\n",
        "# matrix-vector product"
      ],
      "execution_count": null,
      "outputs": [
        {
          "output_type": "execute_result",
          "data": {
            "text/plain": [
              "tensor([ 1.,  6., 15.])"
            ]
          },
          "metadata": {},
          "execution_count": 96
        }
      ]
    },
    {
      "cell_type": "code",
      "metadata": {
        "colab": {
          "base_uri": "https://localhost:8080/"
        },
        "id": "gkCD5BpGQGON",
        "outputId": "7b89322a-2d3d-4e5a-b56c-a7e4a28cd8f7"
      },
      "source": [
        "m@x\n",
        "# another form for the matrix-vector product"
      ],
      "execution_count": null,
      "outputs": [
        {
          "output_type": "execute_result",
          "data": {
            "text/plain": [
              "tensor([ 1.,  6., 15.])"
            ]
          },
          "metadata": {},
          "execution_count": 97
        }
      ]
    },
    {
      "cell_type": "markdown",
      "metadata": {
        "id": "quf4Gm9QQSRI"
      },
      "source": [
        "**Slicing is similar to Numpy**"
      ]
    },
    {
      "cell_type": "code",
      "metadata": {
        "colab": {
          "base_uri": "https://localhost:8080/"
        },
        "id": "qtc00gpYQLUg",
        "outputId": "25d877c1-e6c7-482d-afa6-0c86b25bbfac"
      },
      "source": [
        "a=torch.empty(2,5).random_(10)\n",
        "a\n",
        "# initialize the tensor with random integers below 10"
      ],
      "execution_count": null,
      "outputs": [
        {
          "output_type": "execute_result",
          "data": {
            "text/plain": [
              "tensor([[0., 2., 9., 5., 1.],\n",
              "        [4., 4., 5., 6., 1.]])"
            ]
          },
          "metadata": {},
          "execution_count": 98
        }
      ]
    },
    {
      "cell_type": "code",
      "metadata": {
        "colab": {
          "base_uri": "https://localhost:8080/"
        },
        "id": "yaK1arSeQkCD",
        "outputId": "88366398-0bf5-4967-c5a4-e38999cc222f"
      },
      "source": [
        "a[0]"
      ],
      "execution_count": null,
      "outputs": [
        {
          "output_type": "execute_result",
          "data": {
            "text/plain": [
              "tensor([0., 2., 9., 5., 1.])"
            ]
          },
          "metadata": {},
          "execution_count": 99
        }
      ]
    },
    {
      "cell_type": "code",
      "metadata": {
        "colab": {
          "base_uri": "https://localhost:8080/"
        },
        "id": "qFQ3epaoQoIU",
        "outputId": "da18a81a-d3f9-4bfe-e339-d53d96e6a0e8"
      },
      "source": [
        "a[1]"
      ],
      "execution_count": null,
      "outputs": [
        {
          "output_type": "execute_result",
          "data": {
            "text/plain": [
              "tensor([4., 4., 5., 6., 1.])"
            ]
          },
          "metadata": {},
          "execution_count": 100
        }
      ]
    },
    {
      "cell_type": "code",
      "metadata": {
        "colab": {
          "base_uri": "https://localhost:8080/"
        },
        "id": "eQP8JuXwQu9i",
        "outputId": "cc786707-ffe7-4bc6-b8c1-9e4da678fd9c"
      },
      "source": [
        "a[:,3:]\n",
        "# slicing the tensor with a range"
      ],
      "execution_count": null,
      "outputs": [
        {
          "output_type": "execute_result",
          "data": {
            "text/plain": [
              "tensor([[5., 1.],\n",
              "        [6., 1.]])"
            ]
          },
          "metadata": {},
          "execution_count": 101
        }
      ]
    },
    {
      "cell_type": "code",
      "metadata": {
        "colab": {
          "base_uri": "https://localhost:8080/"
        },
        "id": "4aVFWiH6Q3pF",
        "outputId": "0e8956f9-28a2-4628-e660-6f9e6fec98c1"
      },
      "source": [
        "a[:,1:3] = -1.0\n",
        "a"
      ],
      "execution_count": null,
      "outputs": [
        {
          "output_type": "execute_result",
          "data": {
            "text/plain": [
              "tensor([[ 0., -1., -1.,  5.,  1.],\n",
              "        [ 4., -1., -1.,  6.,  1.]])"
            ]
          },
          "metadata": {},
          "execution_count": 102
        }
      ]
    },
    {
      "cell_type": "code",
      "source": [
        "b = a.clone() # Clone a into b; changes in b will not be reflected in a\n",
        "b[b == -1] = 2\n",
        "b\n",
        "# Boolean indexing"
      ],
      "metadata": {
        "colab": {
          "base_uri": "https://localhost:8080/"
        },
        "id": "1ESLlyb10_Vu",
        "outputId": "44db89bf-d605-4848-9814-a7924cd7d19c"
      },
      "execution_count": null,
      "outputs": [
        {
          "output_type": "execute_result",
          "data": {
            "text/plain": [
              "tensor([[0., 2., 2., 5., 1.],\n",
              "        [4., 2., 2., 6., 1.]])"
            ]
          },
          "metadata": {},
          "execution_count": 103
        }
      ]
    },
    {
      "cell_type": "markdown",
      "metadata": {
        "id": "4FeT5QuJXkFp"
      },
      "source": [
        "**High demnsional tensors**"
      ]
    },
    {
      "cell_type": "code",
      "metadata": {
        "colab": {
          "base_uri": "https://localhost:8080/"
        },
        "id": "fNop6-rkXnaQ",
        "outputId": "fbeb113e-229d-40c6-c5fd-86047c677f4d"
      },
      "source": [
        "za = torch.zeros(1,3)\n",
        "a.dtype, a.device\n",
        "# default tensor is float32 type stored in CPU memory"
      ],
      "execution_count": null,
      "outputs": [
        {
          "output_type": "execute_result",
          "data": {
            "text/plain": [
              "(torch.float32, device(type='cpu'))"
            ]
          },
          "metadata": {},
          "execution_count": 104
        }
      ]
    },
    {
      "cell_type": "code",
      "metadata": {
        "colab": {
          "base_uri": "https://localhost:8080/"
        },
        "id": "tDHGf9vMYJFK",
        "outputId": "caeacd19-5600-4650-fbb3-2097f176327b"
      },
      "source": [
        "#a=a.to(torch.float64)\n",
        "a=a.long()\n",
        "a.dtype, a.device"
      ],
      "execution_count": null,
      "outputs": [
        {
          "output_type": "execute_result",
          "data": {
            "text/plain": [
              "(torch.int64, device(type='cpu'))"
            ]
          },
          "metadata": {},
          "execution_count": 105
        }
      ]
    },
    {
      "cell_type": "code",
      "metadata": {
        "id": "XlMhf8KqY-sD",
        "colab": {
          "base_uri": "https://localhost:8080/"
        },
        "outputId": "1d1f9125-98f3-4f14-9b58-4556973bde11"
      },
      "source": [
        "if torch.cuda.is_available():\n",
        "  device = torch.device(\"cuda\")\n",
        "\n",
        "  a = a.to(device)\n",
        "a.dtype, a.device"
      ],
      "execution_count": null,
      "outputs": [
        {
          "output_type": "execute_result",
          "data": {
            "text/plain": [
              "(torch.int64, device(type='cuda', index=0))"
            ]
          },
          "metadata": {},
          "execution_count": 106
        }
      ]
    },
    {
      "cell_type": "code",
      "metadata": {
        "id": "qntaTbnCcYLK",
        "colab": {
          "base_uri": "https://localhost:8080/"
        },
        "outputId": "a59ef8f1-fed4-4d13-dae5-c1bf561d5e89"
      },
      "source": [
        "x=torch.tensor([[1, 2., 3],\n",
        "                [4, 5, 6]])\n",
        "x"
      ],
      "execution_count": null,
      "outputs": [
        {
          "output_type": "execute_result",
          "data": {
            "text/plain": [
              "tensor([[1., 2., 3.],\n",
              "        [4., 5., 6.]])"
            ]
          },
          "metadata": {},
          "execution_count": 107
        }
      ]
    },
    {
      "cell_type": "code",
      "metadata": {
        "id": "aHqvGrkicgNa",
        "colab": {
          "base_uri": "https://localhost:8080/"
        },
        "outputId": "da8eca19-c3f7-435b-db13-8a104e5948ca"
      },
      "source": [
        "x.t()\n",
        "# transposing a tensor"
      ],
      "execution_count": null,
      "outputs": [
        {
          "output_type": "execute_result",
          "data": {
            "text/plain": [
              "tensor([[1., 4.],\n",
              "        [2., 5.],\n",
              "        [3., 6.]])"
            ]
          },
          "metadata": {},
          "execution_count": 108
        }
      ]
    },
    {
      "cell_type": "code",
      "metadata": {
        "id": "7C7uJLHedCXK",
        "colab": {
          "base_uri": "https://localhost:8080/"
        },
        "outputId": "5eedd2ed-81e9-4e21-e7d0-fe2a43102acc"
      },
      "source": [
        "x.view(-1)\n",
        "# reduce/reshape the tensor into a single dimensional (1D) tensor\n",
        "# in the raster-scan order (rows first then columns)"
      ],
      "execution_count": null,
      "outputs": [
        {
          "output_type": "execute_result",
          "data": {
            "text/plain": [
              "tensor([1., 2., 3., 4., 5., 6.])"
            ]
          },
          "metadata": {},
          "execution_count": 109
        }
      ]
    },
    {
      "cell_type": "code",
      "metadata": {
        "id": "fOEisciwdcuR",
        "colab": {
          "base_uri": "https://localhost:8080/"
        },
        "outputId": "d45d0d39-e9c5-4d63-b35c-da9524ead6b2"
      },
      "source": [
        "x.view(3,-1)\n",
        "# reshape into a tensor with 3 rows and whatever is the resulting columns\n",
        "# in the raster-scan order"
      ],
      "execution_count": null,
      "outputs": [
        {
          "output_type": "execute_result",
          "data": {
            "text/plain": [
              "tensor([[1., 2.],\n",
              "        [3., 4.],\n",
              "        [5., 6.]])"
            ]
          },
          "metadata": {},
          "execution_count": 110
        }
      ]
    },
    {
      "cell_type": "code",
      "metadata": {
        "id": "SFHmRHbYgs2p",
        "colab": {
          "base_uri": "https://localhost:8080/"
        },
        "outputId": "8e90c6c0-780e-48c4-93bc-04e4bd914723"
      },
      "source": [
        "x.view(1,2,3).expand(3,2,3)"
      ],
      "execution_count": null,
      "outputs": [
        {
          "output_type": "execute_result",
          "data": {
            "text/plain": [
              "tensor([[[1., 2., 3.],\n",
              "         [4., 5., 6.]],\n",
              "\n",
              "        [[1., 2., 3.],\n",
              "         [4., 5., 6.]],\n",
              "\n",
              "        [[1., 2., 3.],\n",
              "         [4., 5., 6.]]])"
            ]
          },
          "metadata": {},
          "execution_count": 111
        }
      ]
    },
    {
      "cell_type": "markdown",
      "metadata": {
        "id": "Tx1atG86bwBR"
      },
      "source": [
        "**Pytorch is an immense library of tensor operations. Visit documentation for a better idea and practice more to familiarize the important operations.**\n"
      ]
    },
    {
      "cell_type": "markdown",
      "metadata": {
        "id": "jc3p3QFLiB1T"
      },
      "source": [
        "**For efficiency reasons, different tensors share the same data, therefore need to be careful when modifying. By default, do not assume that two tensors refer to different data in memory**"
      ]
    },
    {
      "cell_type": "code",
      "metadata": {
        "id": "5dCTYo5BiZd8",
        "colab": {
          "base_uri": "https://localhost:8080/"
        },
        "outputId": "c29977e9-0635-4dd9-dc8b-24b971dd961b"
      },
      "source": [
        "a = torch.full((2,5),2)\n",
        "a"
      ],
      "execution_count": null,
      "outputs": [
        {
          "output_type": "execute_result",
          "data": {
            "text/plain": [
              "tensor([[2, 2, 2, 2, 2],\n",
              "        [2, 2, 2, 2, 2]])"
            ]
          },
          "metadata": {},
          "execution_count": 112
        }
      ]
    },
    {
      "cell_type": "code",
      "metadata": {
        "id": "fWrJavQiiAXq",
        "colab": {
          "base_uri": "https://localhost:8080/"
        },
        "outputId": "c01141d0-4d4d-445d-ce8b-5b7bf98717f5"
      },
      "source": [
        "b=a.view(-1)\n",
        "b"
      ],
      "execution_count": null,
      "outputs": [
        {
          "output_type": "execute_result",
          "data": {
            "text/plain": [
              "tensor([2, 2, 2, 2, 2, 2, 2, 2, 2, 2])"
            ]
          },
          "metadata": {},
          "execution_count": 113
        }
      ]
    },
    {
      "cell_type": "code",
      "metadata": {
        "id": "Hl_uiQEii7ez",
        "colab": {
          "base_uri": "https://localhost:8080/"
        },
        "outputId": "00916f38-490f-467d-89f7-ba239e2d3929"
      },
      "source": [
        "a[1,4]=10\n",
        "a"
      ],
      "execution_count": null,
      "outputs": [
        {
          "output_type": "execute_result",
          "data": {
            "text/plain": [
              "tensor([[ 2,  2,  2,  2,  2],\n",
              "        [ 2,  2,  2,  2, 10]])"
            ]
          },
          "metadata": {},
          "execution_count": 114
        }
      ]
    },
    {
      "cell_type": "code",
      "metadata": {
        "id": "SRLUF7Swi-v1"
      },
      "source": [
        "b\n",
        "b[1] = 9"
      ],
      "execution_count": null,
      "outputs": []
    },
    {
      "cell_type": "code",
      "metadata": {
        "id": "eTqOFQOcjEI4",
        "colab": {
          "base_uri": "https://localhost:8080/"
        },
        "outputId": "85bf1783-e2a9-416e-b541-6145b6bdb34b"
      },
      "source": [
        "a"
      ],
      "execution_count": null,
      "outputs": [
        {
          "output_type": "execute_result",
          "data": {
            "text/plain": [
              "tensor([[ 2,  9,  2,  2,  2],\n",
              "        [ 2,  2,  2,  2, 10]])"
            ]
          },
          "metadata": {},
          "execution_count": 116
        }
      ]
    },
    {
      "cell_type": "markdown",
      "metadata": {
        "id": "Ou-Agr0Rla2m"
      },
      "source": [
        "**Broadcasting and Einstein Summations**"
      ]
    },
    {
      "cell_type": "code",
      "metadata": {
        "id": "RgcOw9UzlfYQ",
        "colab": {
          "base_uri": "https://localhost:8080/"
        },
        "outputId": "d7fb0388-09d5-40d1-8312-700ca4c5bf3e"
      },
      "source": [
        "# Broadcasting automatically expands the dimensions by replicating coefficients (when required)\n",
        "x = torch.empty(100,3).normal_(3)\n",
        "x.mean(0)"
      ],
      "execution_count": null,
      "outputs": [
        {
          "output_type": "execute_result",
          "data": {
            "text/plain": [
              "tensor([3.1387, 3.1124, 2.9805])"
            ]
          },
          "metadata": {},
          "execution_count": 117
        }
      ]
    },
    {
      "cell_type": "code",
      "metadata": {
        "id": "GLJnGuVlmSKw",
        "colab": {
          "base_uri": "https://localhost:8080/"
        },
        "outputId": "5d6d6b16-ee40-4def-e543-71822bd597c9"
      },
      "source": [
        "x -= x.mean(0)\n",
        "# we subtract 1 X 3 tensor from 100 X 3 tensor; it should result in an error, but it works!\n",
        "\n",
        "x.mean(0)"
      ],
      "execution_count": null,
      "outputs": [
        {
          "output_type": "execute_result",
          "data": {
            "text/plain": [
              "tensor([ 2.2411e-07,  3.9816e-07, -2.8610e-08])"
            ]
          },
          "metadata": {},
          "execution_count": 118
        }
      ]
    },
    {
      "cell_type": "code",
      "metadata": {
        "id": "sBSond9sncri",
        "colab": {
          "base_uri": "https://localhost:8080/"
        },
        "outputId": "0c939511-2546-4343-9988-c6ab3ef2f090"
      },
      "source": [
        "A = torch.tensor([[1.],[2.],[3.],[4.],[5.]])\n",
        "B = torch.tensor([[5., -5., 5., -5., 5.]])\n",
        "print(A.shape,B.shape)\n",
        "A+B"
      ],
      "execution_count": null,
      "outputs": [
        {
          "output_type": "stream",
          "name": "stdout",
          "text": [
            "torch.Size([5, 1]) torch.Size([1, 5])\n"
          ]
        },
        {
          "output_type": "execute_result",
          "data": {
            "text/plain": [
              "tensor([[ 6., -4.,  6., -4.,  6.],\n",
              "        [ 7., -3.,  7., -3.,  7.],\n",
              "        [ 8., -2.,  8., -2.,  8.],\n",
              "        [ 9., -1.,  9., -1.,  9.],\n",
              "        [10.,  0., 10.,  0., 10.]])"
            ]
          },
          "metadata": {},
          "execution_count": 119
        }
      ]
    },
    {
      "cell_type": "markdown",
      "metadata": {
        "id": "9fDZes_wpG7x"
      },
      "source": [
        "**Einsten Summation Convention**\n",
        "\n",
        "Provides a concise way of describing dimension re-ordering, summing component wise products along some of them.\n",
        "\n",
        "we can use for matrix multiplication, matrix-vector product, diagonal extraction, Hadamard product, batch matrix product, etc."
      ]
    },
    {
      "cell_type": "code",
      "metadata": {
        "id": "I4gVdfHEnukE",
        "colab": {
          "base_uri": "https://localhost:8080/"
        },
        "outputId": "8a5c112b-d11f-4216-f2b1-183eaf9ef6b5"
      },
      "source": [
        "A = torch.rand(2,5)\n",
        "B = torch.rand(5,4)\n",
        "torch.einsum('ij,jk->ik',A,B)"
      ],
      "execution_count": null,
      "outputs": [
        {
          "output_type": "execute_result",
          "data": {
            "text/plain": [
              "tensor([[1.4999, 1.2731, 1.4826, 1.9172],\n",
              "        [0.2811, 0.9158, 0.7768, 0.5493]])"
            ]
          },
          "metadata": {},
          "execution_count": 120
        }
      ]
    },
    {
      "cell_type": "code",
      "metadata": {
        "id": "rWV_ISBuptwV",
        "colab": {
          "base_uri": "https://localhost:8080/"
        },
        "outputId": "0f2a5242-d762-49c9-fd60-b48de14a960e"
      },
      "source": [
        "A@B"
      ],
      "execution_count": null,
      "outputs": [
        {
          "output_type": "execute_result",
          "data": {
            "text/plain": [
              "tensor([[1.4999, 1.2731, 1.4826, 1.9172],\n",
              "        [0.2811, 0.9158, 0.7768, 0.5493]])"
            ]
          },
          "metadata": {},
          "execution_count": 121
        }
      ]
    }
  ]
}